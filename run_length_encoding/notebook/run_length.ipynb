{
 "cells": [
  {
   "cell_type": "markdown",
   "metadata": {},
   "source": [
    "Compress - Run Length Encoding.\n",
    "\n",
    "Week 1 Learning Machines - Patrick Hebron\n",
    "\n",
    "ITP NYU - Fall 2017\n",
    "\n",
    "Cristobal Valenzuela\n",
    "\n",
    "cv965@nyu.edu\n",
    "\n",
    "https://en.wikipedia.org/wiki/Run-length_encoding\n"
   ]
  },
  {
   "cell_type": "code",
   "execution_count": 109,
   "metadata": {
    "collapsed": false
   },
   "outputs": [],
   "source": [
    "def encode(input):\n",
    "    result = ''\n",
    "    count = 1\n",
    "    \n",
    "    for i, c in enumerate(input):\n",
    "        if(i != 0):\n",
    "            if(i < len(input) - 1 and c == input[i+1]):\n",
    "                count = count + 1\n",
    "            else:\n",
    "                result += str(count) + c\n",
    "                count = 1\n",
    "        else:\n",
    "            count += 1\n",
    "    \n",
    "    if(len(result) < len(input)):\n",
    "        print('enconde input: ' + result)\n",
    "    else:\n",
    "        print('the result ' + result + ' is bigger than the input ' + input)\n",
    "        print('dont use this to encode')\n",
    "        "
   ]
  },
  {
   "cell_type": "code",
   "execution_count": 131,
   "metadata": {
    "collapsed": false
   },
   "outputs": [],
   "source": [
    "def decode(input):\n",
    "    result = ''\n",
    "    multiplier = ''\n",
    "    \n",
    "    for i,c in enumerate(input):\n",
    "        if c.isdigit():\n",
    "            multiplier += c\n",
    "        else:\n",
    "            result += int(multiplier)*c\n",
    "            multiplier = ''\n",
    "    print(result)\n",
    "        \n",
    "        "
   ]
  },
  {
   "cell_type": "code",
   "execution_count": 133,
   "metadata": {
    "collapsed": false
   },
   "outputs": [
    {
     "name": "stdout",
     "output_type": "stream",
     "text": [
      "input is WWWWWWWWWWWWBWWWWWWWWWWWWBBBWWWWWWWWWWWWWWWWWWWWWWWWBWWWWWWWWWWWWWW and the result is 12W1B12W3B24W1B14W\n"
     ]
    }
   ],
   "source": [
    "encode('WWWWWWWWWWWWBWWWWWWWWWWWWBBBWWWWWWWWWWWWWWWWWWWWWWWWBWWWWWWWWWWWWWW')"
   ]
  },
  {
   "cell_type": "code",
   "execution_count": 134,
   "metadata": {
    "collapsed": false
   },
   "outputs": [
    {
     "name": "stdout",
     "output_type": "stream",
     "text": [
      "WWWWWWWWWWWWBWWWWWWWWWWWWBBBWWWWWWWWWWWWWWWWWWWWWWWWBWWWWWWWWWWWWWW\n"
     ]
    }
   ],
   "source": [
    "decode('12W1B12W3B24W1B14W')"
   ]
  },
  {
   "cell_type": "code",
   "execution_count": null,
   "metadata": {
    "collapsed": true
   },
   "outputs": [],
   "source": []
  }
 ],
 "metadata": {
  "kernelspec": {
   "display_name": "Python 3",
   "language": "python",
   "name": "python3"
  },
  "language_info": {
   "codemirror_mode": {
    "name": "ipython",
    "version": 3
   },
   "file_extension": ".py",
   "mimetype": "text/x-python",
   "name": "python",
   "nbconvert_exporter": "python",
   "pygments_lexer": "ipython3",
   "version": "3.6.0"
  }
 },
 "nbformat": 4,
 "nbformat_minor": 2
}
