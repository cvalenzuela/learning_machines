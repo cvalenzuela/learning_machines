{
 "cells": [
  {
   "cell_type": "markdown",
   "metadata": {},
   "source": [
    "# Perceptron"
   ]
  },
  {
   "cell_type": "code",
   "execution_count": 3,
   "metadata": {
    "collapsed": true
   },
   "outputs": [],
   "source": [
    "from random import choice\n",
    "from numpy import array, dot, random"
   ]
  },
  {
   "cell_type": "code",
   "execution_count": 2,
   "metadata": {
    "collapsed": false
   },
   "outputs": [
    {
     "name": "stdout",
     "output_type": "stream",
     "text": [
      "[0 0]: -0.13545008003623926 -> 0\n",
      "[0 1]: 0.49234468917025787 -> 1\n",
      "[1 0]: 0.7907123388990701 -> 1\n",
      "[1 1]: 1.4185071081055673 -> 1\n",
      "[ 0.92616242  0.62779477 -0.13545008]\n"
     ]
    }
   ],
   "source": [
    "# OR Logic\n",
    "one_or_zero = lambda x: 0 if x < 0 else 1\n",
    "training_data = [(array([0,0,1]), 0),\n",
    "                 (array([0,1,1]), 1),\n",
    "                 (array([1,0,1]), 1),\n",
    "                 (array([1,1,1]), 1)]\n",
    "\n",
    "weights = random.rand(3)\n",
    "errors = []\n",
    "learning_rate = 0.2\n",
    "num_iterations = 100\n",
    "\n",
    "for i in range(num_iterations):\n",
    "    input, truth = choice(training_data)\n",
    "    result = dot(weights, input)\n",
    "    error = truth - one_or_zero(result)\n",
    "    errors.append(error)\n",
    "    weights += learning_rate*error*input\n",
    "    \n",
    "for x, _ in training_data:\n",
    "    result = dot(x,weights)\n",
    "    print(\"{}: {} -> {}\".format(x[:2], result, one_or_zero(result)))\n",
    "\n",
    "print(weights)"
   ]
  },
  {
   "cell_type": "code",
   "execution_count": null,
   "metadata": {
    "collapsed": true
   },
   "outputs": [],
   "source": []
  }
 ],
 "metadata": {
  "kernelspec": {
   "display_name": "Python 3",
   "language": "python",
   "name": "python3"
  },
  "language_info": {
   "codemirror_mode": {
    "name": "ipython",
    "version": 3
   },
   "file_extension": ".py",
   "mimetype": "text/x-python",
   "name": "python",
   "nbconvert_exporter": "python",
   "pygments_lexer": "ipython3",
   "version": "3.6.0"
  }
 },
 "nbformat": 4,
 "nbformat_minor": 2
}
